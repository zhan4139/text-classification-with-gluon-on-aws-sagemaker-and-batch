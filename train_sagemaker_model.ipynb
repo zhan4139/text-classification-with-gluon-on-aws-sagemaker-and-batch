{
 "cells": [
  {
   "cell_type": "code",
   "execution_count": null,
   "metadata": {
    "collapsed": true
   },
   "outputs": [],
   "source": [
    "import boto3\n",
    "import json\n",
    "import sagemaker as sage\n",
    "import argparse"
   ]
  },
  {
   "cell_type": "code",
   "execution_count": null,
   "metadata": {
    "collapsed": true
   },
   "outputs": [],
   "source": [
    "parser = argparse.ArgumentParser(description='Train language model with Amazon SageMaker.')\n",
    "parser.add_argument('--image-name', type=str, default='languagemodel',\n",
    "                    help='the image repository name -- set to the default in the blog')\n",
    "parser.add_argument('--role-name', type=str, default='AmazonSageMakerExecutionRole',\n",
    "                    help='the SakeMaker execution role name -- set to the default in the blog')\n",
    "parser.add_argument('--region-name', type=str, default='us-east-1',\n",
    "                    help='us-east-1, us-east-2, us-west-2, eu-west-1 -- set to the default in the blog')\n",
    "args = parser.parse_args()\n",
    "\n",
    "SAGEMAKER_REGIONS = {'us-east-1', 'us-east-2', 'us-west-2', 'eu-west-1'}"
   ]
  },
  {
   "cell_type": "code",
   "execution_count": null,
   "metadata": {
    "collapsed": true
   },
   "outputs": [],
   "source": [
    "# start a sagemaker session\n",
    "sess = sage.Session()\n",
    "\n",
    "# Get our account-id and our region\n",
    "account = sess.boto_session.client('sts').get_caller_identity()['Account']\n",
    "region = sess.boto_session.region_name\n",
    "\n",
    "# override region to blog default or if not in acceptable location\n",
    "if region not in SAGEMAKER_REGIONS:\n",
    "    region = args.region_name\n",
    "\n",
    "# Get our image URI and the role we created in our CloudFormation Template\n",
    "image = '{}.dkr.ecr.{}.amazonaws.com/{}'.format(account, region, args.image_name)\n",
    "role ='arn:aws:iam::{}:role/{}'.format(account, args.role_name)\n",
    "\n",
    "# Create a sagemaker training instance using our image URI\n",
    "languagemodel = sage.estimator.Estimator(image, role, 1, \"ml.p2.xlarge\",\n",
    "                       output_path=\"s3://{}/output\".format(sess.default_bucket()),\n",
    "                       sagemaker_session=sess)\n",
    "\n",
    "# read our local config information\n",
    "config = json.load(open('config/config.json'))\n",
    "\n",
    "# set our training configuration for the model\n",
    "languagemodel.hyperparam_dict = config\n",
    "\n",
    "# upload our training data to s3 \n",
    "# the output will be something like this:\n",
    "# s3://sagemaker-us-east-1-{account-id}/data/train.csv'\n",
    "data_location = sess.upload_data(path=\"data/train.csv\")\n",
    "\n",
    "# finally we fit our data - sit back and read the stream!\n",
    "languagemodel.fit(data_location)"
   ]
  }
 ],
 "metadata": {
  "kernelspec": {
   "display_name": "Python 3",
   "language": "python",
   "name": "python3"
  },
  "language_info": {
   "codemirror_mode": {
    "name": "ipython",
    "version": 3
   },
   "file_extension": ".py",
   "mimetype": "text/x-python",
   "name": "python",
   "nbconvert_exporter": "python",
   "pygments_lexer": "ipython3",
   "version": "3.6.4"
  }
 },
 "nbformat": 4,
 "nbformat_minor": 2
}
